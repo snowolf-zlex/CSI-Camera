{
 "cells": [
  {
   "cell_type": "code",
   "execution_count": null,
   "metadata": {},
   "outputs": [],
   "source": [
    "import cv2 as cv\n",
    "import threading\n",
    "import ipywidgets as widgets\n",
    "from IPython.display import display"
   ]
  },
  {
   "cell_type": "code",
   "execution_count": null,
   "metadata": {},
   "outputs": [],
   "source": [
    "button_layout = widgets.Layout(width='250px', height='50px', align_self='center')\n",
    "output = widgets.Output()\n",
    "# 退出控件 exit button\n",
    "exit_button = widgets.Button(description='Exit', button_style='danger', layout=button_layout)\n",
    "# 图像控件 Image widget\n",
    "imgbox = widgets.Image(format='jpg', height=480, width=640, layout=widgets.Layout(align_self='center'))\n",
    "# 空间布局 spatial distribution\n",
    "controls_box = widgets.VBox([imgbox, exit_button], layout=widgets.Layout(align_self='center'))\n",
    "\n",
    "def exit_button_Callback(value):\n",
    "    global model\n",
    "    model = 'Exit'\n",
    "#     with output: print(model)\n",
    "exit_button.on_click(exit_button_Callback)\n",
    "\n",
    "# 控制模型状态\n",
    "model = 'General'\n"
   ]
  },
  {
   "cell_type": "code",
   "execution_count": null,
   "metadata": {},
   "outputs": [],
   "source": [
    "\n",
    "# 摄像头初始化及设置\n",
    "camera = cv.VideoCapture(2)\n",
    "# camera.set(cv.CAP_PROP_FRAME_WIDTH, 640)\n",
    "# camera.set(cv.CAP_PROP_FRAME_HEIGHT, 480)\n",
    "# camera.set(cv.CAP_PROP_FPS, 30)\n",
    "\n",
    "# 图像捕获函数\n",
    "def capture_frames():\n",
    "    while camera.isOpened():\n",
    "        try:\n",
    "            ret, frame = camera.read()\n",
    "            frame = cv.resize(frame, (640, 480))\n",
    "            if ret is False:\n",
    "                break\n",
    "\n",
    "            if model == \"Exit\":\n",
    "                cv.destroyAllWindows()\n",
    "                camera.release()\n",
    "                break\n",
    "\n",
    "            imgbox.value = cv.imencode(\".jpg\", frame)[1].tobytes()\n",
    "\n",
    "        except KeyboardInterrupt:\n",
    "            camera.release()\n",
    "\n",
    "\n",
    "\n",
    "\n",
    "# 显示控件\n",
    "display(controls_box,output)\n",
    "\n",
    "# 在新线程中捕获图像\n",
    "threading.Thread(target=capture_frames).start()\n"
   ]
  },
  {
   "cell_type": "markdown",
   "metadata": {},
   "source": []
  }
 ],
 "metadata": {
  "kernelspec": {
   "display_name": "Python 3 (ipykernel)",
   "language": "python",
   "name": "python3"
  }
 },
 "nbformat": 4,
 "nbformat_minor": 2
}
