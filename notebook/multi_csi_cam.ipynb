{
 "cells": [
  {
   "cell_type": "code",
   "execution_count": 1,
   "metadata": {},
   "outputs": [],
   "source": [
    "import cv2\n",
    "import threading\n",
    "import ipywidgets as widgets\n",
    "from IPython.display import display"
   ]
  },
  {
   "cell_type": "code",
   "execution_count": 2,
   "metadata": {},
   "outputs": [],
   "source": [
    "button_layout = widgets.Layout(width='250px', height='50px', align_self='center')\n",
    "output = widgets.Output()\n",
    "# 退出控件 exit button\n",
    "exit_button = widgets.Button(description='Exit', button_style='danger', layout=button_layout)\n",
    "# 图像控件 Image widget\n",
    "imgbox = widgets.Image(format='jpg', height=480, width=640, layout=widgets.Layout(align_self='center'))\n",
    "# 空间布局 spatial distribution\n",
    "controls_box = widgets.VBox([imgbox, exit_button], layout=widgets.Layout(align_self='center'))\n",
    "\n",
    "def exit_button_Callback(value):\n",
    "    global model\n",
    "    model = 'Exit'\n",
    "#     with output: print(model)\n",
    "exit_button.on_click(exit_button_Callback)\n",
    "\n",
    "# 控制模型状态\n",
    "model = 'General'\n"
   ]
  },
  {
   "cell_type": "code",
   "execution_count": 3,
   "metadata": {},
   "outputs": [],
   "source": [
    "# 构建通道字符串\n",
    "def build_pipeline(sensor_id):\n",
    "    width = 720\n",
    "    height = 640\n",
    "    framerate = 30\n",
    "    pipeline = (\n",
    "        f\"nvarguscamerasrc sensor-id={sensor_id} ! \"\n",
    "        f\"video/x-raw(memory:NVMM), width={width}, height={height}, format=(string)NV12, framerate=(fraction){framerate}/1 ! \"\n",
    "        \"nvvidconv ! \"\n",
    "        \"video/x-raw, format=(string)BGRx ! \"\n",
    "        \"videoconvert ! \"\n",
    "        \"appsink\"\n",
    "    )\n",
    "    return pipeline\n",
    "\n",
    "# 图像捕获函数\n",
    "def capture_frames():\n",
    "    # 打开GStreamer管道\n",
    "    cap1 = cv2.VideoCapture(build_pipeline(0), cv2.CAP_GSTREAMER)\n",
    "    cap2 = cv2.VideoCapture(build_pipeline(1), cv2.CAP_GSTREAMER)\n",
    "    while True:\n",
    "        try:\n",
    "            # 读取帧\n",
    "            ret1, frame1 = cap1.read()\n",
    "            ret2, frame2 = cap2.read()\n",
    "            if (not ret1) and (not ret2):\n",
    "                print(\"无法从nvarguscamerasrc读取帧\")\n",
    "                break\n",
    "\n",
    "            if model == \"Exit\":\n",
    "                cv2.destroyAllWindows()\n",
    "                cap1.release()\n",
    "                cap2.release()\n",
    "                break\n",
    "\n",
    "            # 水平拼接两个图像\n",
    "            combined_image = cv2.hconcat([frame1, frame2])\n",
    "            \n",
    "            imgbox.value = cv2.imencode(\".jpg\", combined_image)[1].tobytes()\n",
    "\n",
    "        except KeyboardInterrupt:\n",
    "            cap1.release()\n",
    "            cap2.release()\n"
   ]
  },
  {
   "cell_type": "code",
   "execution_count": null,
   "metadata": {},
   "outputs": [],
   "source": [
    "\n",
    "# 显示控件\n",
    "display(controls_box,output)\n",
    "\n",
    "# 在新线程中捕获图像\n",
    "threading.Thread(target=capture_frames).start()\n"
   ]
  }
 ],
 "metadata": {
  "kernelspec": {
   "display_name": "Python 3",
   "language": "python",
   "name": "python3"
  },
  "language_info": {
   "codemirror_mode": {
    "name": "ipython",
    "version": 3
   },
   "file_extension": ".py",
   "mimetype": "text/x-python",
   "name": "python",
   "nbconvert_exporter": "python",
   "pygments_lexer": "ipython3",
   "version": "3.8.10"
  }
 },
 "nbformat": 4,
 "nbformat_minor": 2
}
